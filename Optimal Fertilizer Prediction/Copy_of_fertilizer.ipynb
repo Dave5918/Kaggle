{
  "nbformat": 4,
  "nbformat_minor": 0,
  "metadata": {
    "colab": {
      "provenance": [],
      "gpuType": "V28"
    },
    "kernelspec": {
      "name": "python3",
      "display_name": "Python 3"
    },
    "language_info": {
      "name": "python"
    },
    "accelerator": "TPU"
  },
  "cells": [
    {
      "cell_type": "code",
      "execution_count": null,
      "metadata": {
        "id": "tXYl9zBE9oKz",
        "colab": {
          "base_uri": "https://localhost:8080/"
        },
        "outputId": "cded3cea-4269-4cb8-d4e0-be0c9c33ed89"
      },
      "outputs": [
        {
          "output_type": "stream",
          "name": "stderr",
          "text": [
            "/tmp/ipython-input-30-2411793156.py:19: SettingWithCopyWarning: \n",
            "A value is trying to be set on a copy of a slice from a DataFrame.\n",
            "Try using .loc[row_indexer,col_indexer] = value instead\n",
            "\n",
            "See the caveats in the documentation: https://pandas.pydata.org/pandas-docs/stable/user_guide/indexing.html#returning-a-view-versus-a-copy\n",
            "  inputs[numerical]=scaler.fit_transform(inputs[numerical])\n",
            "/tmp/ipython-input-30-2411793156.py:28: SettingWithCopyWarning: \n",
            "A value is trying to be set on a copy of a slice from a DataFrame.\n",
            "Try using .loc[row_indexer,col_indexer] = value instead\n",
            "\n",
            "See the caveats in the documentation: https://pandas.pydata.org/pandas-docs/stable/user_guide/indexing.html#returning-a-view-versus-a-copy\n",
            "  inputs[encoded]=encoder.transform(inputs[category])\n"
          ]
        }
      ],
      "source": [
        "import seaborn as sns\n",
        "import pandas as pd\n",
        "import numpy as np\n",
        "import matplotlib.pyplot as plt\n",
        "data=pd.read_csv(\"train.csv\")\n",
        "test=pd.read_csv(\"test.csv\")\n",
        "inputs=data.columns[1:9]\n",
        "target=data.columns[9]\n",
        "inputs=data[inputs]\n",
        "target=data[target]\n",
        "numerical=inputs.select_dtypes(include=np.number).columns.tolist()\n",
        "category=inputs.select_dtypes(include=\"object\").columns.tolist()\n",
        "\n",
        "# sns.heatmap(data[numerical].corr(),annot=True)\n",
        "from sklearn.model_selection import train_test_split\n",
        "x_train,x_test,y_train,y_test=train_test_split(inputs,target,test_size=0.2,random_state=42)\n",
        "from sklearn.preprocessing import MinMaxScaler\n",
        "scaler=MinMaxScaler()\n",
        "inputs[numerical]=scaler.fit_transform(inputs[numerical])\n",
        "x_test[numerical]=scaler.fit_transform(x_test[numerical])\n",
        "test[numerical]=scaler.fit_transform(test[numerical])\n",
        "\n",
        "\n",
        "from sklearn.preprocessing import OneHotEncoder\n",
        "encoder=OneHotEncoder(sparse_output=False,handle_unknown=\"ignore\")\n",
        "encoder.fit(data[category])\n",
        "encoded=list(encoder.get_feature_names_out(category))\n",
        "inputs[encoded]=encoder.transform(inputs[category])\n",
        "x_test[encoded]=encoder.transform(x_test[category])\n",
        "test[encoded]=encoder.transform(test[category])\n",
        "\n",
        "\n",
        "import xgboost as xgb\n",
        "from xgboost import XGBClassifier\n",
        "from sklearn.ensemble import HistGradientBoostingClassifier\n",
        "model=HistGradientBoostingClassifier(max_iter=750000,random_state=10,l2_regularization=15,max_depth=20,learning_rate=0.11234)\n",
        "from sklearn.metrics import accuracy_score"
      ]
    },
    {
      "cell_type": "code",
      "source": [
        "from sklearn.preprocessing import LabelEncoder\n",
        "target_encoder = LabelEncoder()\n",
        "y_train_encoded = target_encoder.fit_transform(target) # Encode y_train\n",
        "y_test_encoded = target_encoder.transform(y_test) # Encode y_test\n",
        "model.fit(inputs[numerical + encoded], y_train_encoded) # Fit model with encoded target\n",
        "test_pred_proba = model.predict_proba(test[numerical + encoded])\n",
        "top_3_preds_indices = np.argsort(test_pred_proba, axis=1)[:, ::-1][:, :3]\n",
        "\n",
        "# Map the indices back to the original fertilizer names\n",
        "top_3_labels = np.array([target_encoder.classes_[i] for i in top_3_preds_indices.ravel()]).reshape(top_3_preds_indices.shape)\n",
        "\n",
        "submission = pd.read_csv('sample_submission.csv')\n",
        "submission = pd.DataFrame({\n",
        "    'id': submission['id'],\n",
        "    'Fertilizer Name': [' '.join(row) for row in top_3_labels] # Join strings directly\n",
        "})\n",
        "\n",
        "# submission.to_csv('submission.csv', index=False)\n",
        "# print(\"✅ Submission file with real fertilizer names saved successfully!\")\n",
        "print(submission.head())\n",
        "\n",
        "# Calculate accuracy with encoded y_test\n",
        "accuracy = accuracy_score(y_test_encoded, model.predict(x_test[numerical + encoded]))\n",
        "print(f\"Accuracy: {accuracy}\")"
      ],
      "metadata": {
        "id": "c44a4JzR99CU",
        "colab": {
          "base_uri": "https://localhost:8080/"
        },
        "outputId": "4e600c58-2aa8-4ddd-ba08-dd00e48f7c4c"
      },
      "execution_count": null,
      "outputs": [
        {
          "output_type": "stream",
          "name": "stdout",
          "text": [
            "       id             Fertilizer Name\n",
            "0  750000              DAP 20-20 Urea\n",
            "1  750001     17-17-17 10-26-26 20-20\n",
            "2  750002        20-20 28-28 10-26-26\n",
            "3  750003  14-35-14 10-26-26 17-17-17\n",
            "4  750004         20-20 10-26-26 Urea\n",
            "Accuracy: 0.27554\n"
          ]
        }
      ]
    },
    {
      "cell_type": "code",
      "source": [
        "submission.to_csv('submission10.csv', index=False)"
      ],
      "metadata": {
        "id": "zX0H3TO3I-Da"
      },
      "execution_count": null,
      "outputs": []
    }
  ]
}